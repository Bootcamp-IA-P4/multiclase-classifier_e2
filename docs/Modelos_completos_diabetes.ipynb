{
 "cells": [
  {
   "cell_type": "markdown",
   "id": "7821b921",
   "metadata": {},
   "source": [
    "# Evaluación de Modelos para Clasificación Multiclase\n",
    "\n",
    "Este notebook contiene el desarrollo completo de modelos para clasificar pacientes como:\n",
    "\n",
    "- `0 = No diabetes`\n",
    "- `1 = Prediabetes`\n",
    "- `2 = Diabetes`\n",
    "\n",
    "Se incluyen:\n",
    "- Preprocesamiento y escalado\n",
    "- Rebalanceo con SMOTE y SMOTEENN\n",
    "- Entrenamiento de modelos: Random Forest, XGBoost, LightGBM\n",
    "- Pipeline jerárquico\n",
    "- Evaluación y comparación de resultados\n"
   ]
  },
  {
   "cell_type": "markdown",
   "id": "d6e9067e",
   "metadata": {},
   "source": [
    "## 🧹 Carga, preprocesamiento y escalado"
   ]
  },
  {
   "cell_type": "code",
   "execution_count": 1,
   "id": "6adf3d60",
   "metadata": {},
   "outputs": [],
   "source": [
    "import pandas as pd\n",
    "from sklearn.model_selection import train_test_split\n",
    "from sklearn.preprocessing import StandardScaler\n",
    "\n",
    "# Cargar datos\n",
    "df = pd.read_csv(\"../data/diabetes_multiclass.csv\").drop_duplicates()\n",
    "\n",
    "# Variables seleccionadas\n",
    "features = [\n",
    "    'BMI', 'Age', 'HighBP', 'HighChol', 'GenHlth',\n",
    "    'PhysHlth', 'DiffWalk', 'HeartDiseaseorAttack'\n",
    "]\n",
    "\n",
    "X = df[features]\n",
    "y = df[\"Diabetes_012\"]\n",
    "\n",
    "# División train/test\n",
    "X_train, X_test, y_train, y_test = train_test_split(\n",
    "    X, y, test_size=0.2, stratify=y, random_state=42\n",
    ")\n",
    "\n",
    "# Escalado\n",
    "scaler = StandardScaler()\n",
    "X_train_scaled = scaler.fit_transform(X_train)\n",
    "X_test_scaled = scaler.transform(X_test)"
   ]
  },
  {
   "cell_type": "markdown",
   "id": "b200c773",
   "metadata": {},
   "source": [
    "## 🔁 Rebalanceo con SMOTE y SMOTEENN"
   ]
  },
  {
   "cell_type": "code",
   "execution_count": 2,
   "id": "d13489fb",
   "metadata": {},
   "outputs": [],
   "source": [
    "from imblearn.over_sampling import SMOTE\n",
    "from imblearn.combine import SMOTEENN\n",
    "\n",
    "# SMOTE\n",
    "smote = SMOTE(random_state=42)\n",
    "X_train_smote, y_train_smote = smote.fit_resample(X_train_scaled, y_train)\n",
    "\n",
    "# SMOTEENN\n",
    "smoteenn = SMOTEENN(random_state=42)\n",
    "X_train_smoteenn, y_train_smoteenn = smoteenn.fit_resample(X_train_scaled, y_train)"
   ]
  },
  {
   "cell_type": "markdown",
   "id": "76b38543",
   "metadata": {},
   "source": [
    "## 🌲 Random Forest con SMOTEENN"
   ]
  },
  {
   "cell_type": "code",
   "execution_count": null,
   "id": "82842348",
   "metadata": {},
   "outputs": [],
   "source": [
    "from sklearn.ensemble import RandomForestClassifier\n",
    "from sklearn.model_selection import GridSearchCV\n",
    "from sklearn.metrics import classification_report, ConfusionMatrixDisplay\n",
    "import matplotlib.pyplot as plt\n",
    "\n",
    "rf = RandomForestClassifier(random_state=42)\n",
    "param_grid = {\n",
    "    'n_estimators': [100],\n",
    "    'max_depth': [10],\n",
    "    'min_samples_split': [2],\n",
    "    'class_weight': ['balanced']\n",
    "}\n",
    "grid = GridSearchCV(rf, param_grid, cv=3, n_jobs=-1)\n",
    "grid.fit(X_train_smoteenn, y_train_smoteenn)\n",
    "\n",
    "y_pred_rf = grid.predict(X_test_scaled)\n",
    "print(classification_report(y_test, y_pred_rf, digits=3))\n",
    "ConfusionMatrixDisplay.from_predictions(y_test, y_pred_rf, display_labels=[\"No\", \"Prediabetes\", \"Diabetes\"])\n",
    "plt.title(\"Random Forest + SMOTEENN\")\n",
    "plt.show()"
   ]
  },
  {
   "cell_type": "markdown",
   "id": "5c4275b3",
   "metadata": {},
   "source": [
    "# 🌲 Modelo: Random Forest + SMOTEENN\n",
    "\n",
    "## 🔧 Descripción\n",
    "Modelo de clasificación multiclase usando RandomForestClassifier, entrenado sobre datos rebalanceados con SMOTEENN para equilibrar las clases.\n",
    "\n",
    "- Algoritmo: Random Forest\n",
    "- Rebalanceo: ✅ SMOTE + ENN (elimina ruido)\n",
    "- Hiperparámetros probados:\n",
    "  - n_estimators: 100\n",
    "  - max_depth: 10\n",
    "  - class_weight: balanced\n",
    "\n",
    "## 📊 Resultados esperados\n",
    "- Accuracy: ~61%\n",
    "- Recall clase 1 (Prediabetes): ~15%\n",
    "- Rendimiento robusto, aunque limitado en recall en clases minoritarias.\n",
    "\n",
    "## ✅ Observación\n",
    "Es un buen baseline, especialmente útil si se desea un modelo interpretativo basado en árboles.\n"
   ]
  },
  {
   "cell_type": "markdown",
   "id": "12ccadbb",
   "metadata": {},
   "source": [
    "## 🚀 XGBoost con SMOTEENN"
   ]
  },
  {
   "cell_type": "code",
   "execution_count": null,
   "id": "67b5f254",
   "metadata": {},
   "outputs": [],
   "source": [
    "from xgboost import XGBClassifier\n",
    "\n",
    "xgb = XGBClassifier(objective='multi:softmax', num_class=3, use_label_encoder=False, eval_metric='mlogloss', random_state=42)\n",
    "param_grid = {\n",
    "    'n_estimators': [100],\n",
    "    'max_depth': [6],\n",
    "    'learning_rate': [0.1]\n",
    "}\n",
    "grid = GridSearchCV(xgb, param_grid, cv=3, n_jobs=-1)\n",
    "grid.fit(X_train_smoteenn, y_train_smoteenn)\n",
    "\n",
    "y_pred_xgb = grid.predict(X_test_scaled)\n",
    "print(classification_report(y_test, y_pred_xgb, digits=3))\n",
    "ConfusionMatrixDisplay.from_predictions(y_test, y_pred_xgb, display_labels=[\"No\", \"Prediabetes\", \"Diabetes\"])\n",
    "plt.title(\"XGBoost + SMOTEENN\")\n",
    "plt.show()"
   ]
  },
  {
   "cell_type": "markdown",
   "id": "64c9267d",
   "metadata": {},
   "source": [
    "# 🚀 Modelo: XGBoost + SMOTEENN\n",
    "\n",
    "## 🔧 Descripción\n",
    "Modelo de boosting entrenado con XGBoost sobre un conjunto balanceado con SMOTEENN. Se enfoca en precisión y control del error mediante optimización por gradiente.\n",
    "\n",
    "- Algoritmo: XGBoostClassifier\n",
    "- Rebalanceo: ✅ SMOTE + ENN\n",
    "- Hiperparámetros probados:\n",
    "  - max_depth: 6\n",
    "  - learning_rate: 0.1\n",
    "  - n_estimators: 100\n",
    "\n",
    "## 📊 Resultados esperados\n",
    "- Recall clase 1 (Prediabetes): ~8%\n",
    "- F1-score clase 1: ~0.05\n",
    "- Mejor estabilidad general que RandomForest, pero menor sensibilidad en predicción de clase 1.\n",
    "\n",
    "## ✅ Observación\n",
    "Adecuado para pipelines más exigentes en precisión global. Complementario a modelos tipo RandomForest.\n"
   ]
  },
  {
   "cell_type": "markdown",
   "id": "360f8122",
   "metadata": {},
   "source": [
    "## 💡 LightGBM sin rebalanceo (modelo final)"
   ]
  },
  {
   "cell_type": "code",
   "execution_count": 1,
   "id": "ec98c341",
   "metadata": {},
   "outputs": [
    {
     "ename": "NameError",
     "evalue": "name 'GridSearchCV' is not defined",
     "output_type": "error",
     "traceback": [
      "\u001b[31m---------------------------------------------------------------------------\u001b[39m",
      "\u001b[31mNameError\u001b[39m                                 Traceback (most recent call last)",
      "\u001b[36mCell\u001b[39m\u001b[36m \u001b[39m\u001b[32mIn[1]\u001b[39m\u001b[32m, line 11\u001b[39m\n\u001b[32m      3\u001b[39m lgbm = LGBMClassifier(objective=\u001b[33m'\u001b[39m\u001b[33mmulticlass\u001b[39m\u001b[33m'\u001b[39m, num_class=\u001b[32m3\u001b[39m, class_weight=\u001b[33m'\u001b[39m\u001b[33mbalanced\u001b[39m\u001b[33m'\u001b[39m, random_state=\u001b[32m42\u001b[39m)\n\u001b[32m      4\u001b[39m param_grid = {\n\u001b[32m      5\u001b[39m     \u001b[33m'\u001b[39m\u001b[33mn_estimators\u001b[39m\u001b[33m'\u001b[39m: [\u001b[32m200\u001b[39m],\n\u001b[32m      6\u001b[39m     \u001b[33m'\u001b[39m\u001b[33mmax_depth\u001b[39m\u001b[33m'\u001b[39m: [\u001b[32m10\u001b[39m],\n\u001b[32m   (...)\u001b[39m\u001b[32m      9\u001b[39m     \u001b[33m'\u001b[39m\u001b[33mcolsample_bytree\u001b[39m\u001b[33m'\u001b[39m: [\u001b[32m1.0\u001b[39m]\n\u001b[32m     10\u001b[39m }\n\u001b[32m---> \u001b[39m\u001b[32m11\u001b[39m grid = \u001b[43mGridSearchCV\u001b[49m(lgbm, param_grid, cv=\u001b[32m3\u001b[39m, n_jobs=-\u001b[32m1\u001b[39m)\n\u001b[32m     12\u001b[39m grid.fit(X_train_scaled, y_train)\n\u001b[32m     14\u001b[39m y_pred_lgbm = grid.predict(X_test_scaled)\n",
      "\u001b[31mNameError\u001b[39m: name 'GridSearchCV' is not defined"
     ]
    }
   ],
   "source": [
    "from lightgbm import LGBMClassifier\n",
    "\n",
    "lgbm = LGBMClassifier(objective='multiclass', num_class=3, class_weight='balanced', random_state=42)\n",
    "param_grid = {\n",
    "    'n_estimators': [200],\n",
    "    'max_depth': [10],\n",
    "    'learning_rate': [0.3],\n",
    "    'subsample': [0.8],\n",
    "    'colsample_bytree': [1.0]\n",
    "}\n",
    "grid = GridSearchCV(lgbm, param_grid, cv=3, n_jobs=-1)\n",
    "grid.fit(X_train_scaled, y_train)\n",
    "\n",
    "y_pred_lgbm = grid.predict(X_test_scaled)\n",
    "print(classification_report(y_test, y_pred_lgbm, digits=3))\n",
    "ConfusionMatrixDisplay.from_predictions(y_test, y_pred_lgbm, display_labels=[\"No\", \"Prediabetes\", \"Diabetes\"])\n",
    "plt.title(\"LightGBM sin rebalanceo\")\n",
    "plt.show()"
   ]
  },
  {
   "cell_type": "markdown",
   "id": "d5c91e83",
   "metadata": {},
   "source": [
    "# 💡 Modelo: LightGBM sin rebalanceo (modelo final)\n",
    "\n",
    "## 🔧 Descripción\n",
    "LightGBM entrenado directamente sobre datos originales, sin técnicas de oversampling, utilizando `class_weight='balanced'` para manejar el desbalance.\n",
    "\n",
    "- Algoritmo: LGBMClassifier\n",
    "- Rebalanceo: ❌ No aplicado\n",
    "- Escalado: StandardScaler\n",
    "- Hiperparámetros finales:\n",
    "  - n_estimators: 200\n",
    "  - max_depth: 10\n",
    "  - learning_rate: 0.3\n",
    "  - subsample: 0.8\n",
    "  - colsample_bytree: 1.0\n",
    "\n",
    "## 📊 Resultados clave\n",
    "- Recall clase 1 (Prediabetes): **23.7%**\n",
    "- Accuracy total: **61.6%**\n",
    "- Recall clase 2 (Diabetes): 60.4%\n",
    "\n",
    "## ✅ Conclusión\n",
    "Este modelo proporciona el mejor balance general sin necesidad de rebalanceo artificial, y es el **modelo final seleccionado para producción**.\n"
   ]
  },
  {
   "cell_type": "markdown",
   "id": "3acb23af",
   "metadata": {},
   "source": [
    "## 🧾 Conclusiones\n",
    "\n",
    "- **Random Forest + SMOTEENN**: buen rendimiento general pero bajo recall en clase 1.\n",
    "- **XGBoost + SMOTEENN**: similar a RF pero con menor precisión en clase 1.\n",
    "- **LightGBM sin rebalanceo**: modelo más equilibrado, con mejor recall en clase 1 (prediabetes).\n",
    "\n",
    "👉 Se selecciona **LightGBM multiclase sin rebalanceo** como modelo final por simplicidad, rendimiento y estabilidad.\n"
   ]
  },
  {
   "cell_type": "markdown",
   "id": "5f8a315c",
   "metadata": {},
   "source": [
    "# 🧠 Model Card - LightGBM Multiclase Final\n",
    "\n",
    "## 📋 Descripción del Modelo\n",
    "\n",
    "Este modelo utiliza **LightGBM** para predecir si un paciente pertenece a una de tres clases:\n",
    "\n",
    "- `0 = No diabetes`\n",
    "- `1 = Prediabetes`\n",
    "- `2 = Diabetes`\n",
    "\n",
    "Ha sido entrenado **sin técnicas de rebalanceo** artificial, confiando únicamente en `class_weight='balanced'` para manejar el desbalance.\n",
    "\n",
    "## 🧪 Entrenamiento\n",
    "\n",
    "- Algoritmo: `LGBMClassifier`\n",
    "- Tipo: Multiclase (3 clases)\n",
    "- Dataset: `CDC Diabetes Health Indicators`\n",
    "- Features utilizadas:\n",
    "  - BMI, Age, HighBP, HighChol, GenHlth, PhysHlth, DiffWalk, HeartDiseaseorAttack\n",
    "- Rebalanceo: ❌ No aplicado\n",
    "- Escalado: `StandardScaler`\n",
    "\n",
    "## ⚙️ Hiperparámetros\n",
    "\n",
    "```python\n",
    "{\n",
    "  'n_estimators': 200,\n",
    "  'max_depth': 10,\n",
    "  'learning_rate': 0.3,\n",
    "  'subsample': 0.8,\n",
    "  'colsample_bytree': 1.0\n",
    "}\n",
    "```\n",
    "\n",
    "## 🎯 Métricas de Evaluación\n",
    "\n",
    "| Clase         | Precision | Recall | F1-score |\n",
    "|---------------|-----------|--------|----------|\n",
    "| No diabetes   | 0.941     | 0.627  | 0.753    |\n",
    "| Prediabetes   | 0.026     | 0.237  | 0.048    |\n",
    "| Diabetes      | 0.344     | 0.604  | 0.438    |\n",
    "\n",
    "- **Accuracy total**: 61.6%\n",
    "- **Macro recall**: 48.9%\n",
    "- **Macro F1-score**: 41.3%\n",
    "\n",
    "## ✅ Conclusión\n",
    "\n",
    "Este modelo es el que mejor equilibra simplicidad, rendimiento y generalización, siendo especialmente destacable en la clase más difícil (prediabetes), donde supera el 23% de recall sin rebalanceo externo.\n",
    "\n",
    "Se considera el **modelo final recomendado** para producción e interpretación con SHAP.\n",
    "\n"
   ]
  }
 ],
 "metadata": {
  "kernelspec": {
   "display_name": "venv",
   "language": "python",
   "name": "python3"
  },
  "language_info": {
   "codemirror_mode": {
    "name": "ipython",
    "version": 3
   },
   "file_extension": ".py",
   "mimetype": "text/x-python",
   "name": "python",
   "nbconvert_exporter": "python",
   "pygments_lexer": "ipython3",
   "version": "3.12.4"
  }
 },
 "nbformat": 4,
 "nbformat_minor": 5
}
