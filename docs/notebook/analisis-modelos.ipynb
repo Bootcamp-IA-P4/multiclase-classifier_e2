{
 "cells": [
  {
   "cell_type": "markdown",
   "id": "bc774205",
   "metadata": {},
   "source": [
    "# Desarrollo del Modelo de Clasificación para predicción de Diabetes"
   ]
  },
  {
   "cell_type": "markdown",
   "id": "a9424ab0",
   "metadata": {},
   "source": [
    "Durante el proceso de desarrollo de nuestro modelo predictivo, evaluamos diversos algoritmos de ensamble, entre ellos:\n",
    "\n",
    "- RandomForest\n",
    "- XGBoost\n",
    "- LightGBM\n",
    "- GradientBoosting\n",
    "- LogisticRegression\n",
    "\n",
    "Uno de los principales desafíos fue el fuerte desbalanceo del dataset, con la siguiente distribución de clases:\n",
    "\n",
    "- No diabetes (0): 213,703 registros (84.2%)\n",
    "\n",
    "- Prediabetes (1): 4,631 registros (1.8%)\n",
    "\n",
    "- Diabetes (2): 35,346 registros (13.9%)\n",
    "\n",
    "Este desequilibrio afectaba significativamente el rendimiento del modelo, particularmente en la clase de Prediabetes, donde algunos modelos llegaban a presentar un recall de 0, es decir, no lograban identificar correctamente ningún caso de esta clase.\n",
    "\n"
   ]
  },
  {
   "cell_type": "markdown",
   "id": "f3364b19",
   "metadata": {},
   "source": [
    "## Modelo seleccionado: LightGBM\n",
    "\n",
    "Después de múltiples pruebas, seleccionamos LightGBM como modelo final debido a su mejor equilibrio entre precisión general y capacidad para detectar casos de prediabetes, utilizando los siguientes parámetros:\n",
    "\n",
    "```\n",
    "lgbm = LGBMClassifier(\n",
    "    objective='multiclass',\n",
    "    num_class=3,\n",
    "    class_weight=class_weights,  # pesos calculados automáticamente\n",
    "    learning_rate=0.1,\n",
    "    n_estimators=200,\n",
    "    random_state=42\n",
    ")\n",
    "```"
   ]
  },
  {
   "cell_type": "markdown",
   "id": "209cde42",
   "metadata": {},
   "source": [
    "El conjunto de datos fue dividido en entrenamiento y prueba con estratificación para preservar la distribución original de clases."
   ]
  },
  {
   "cell_type": "markdown",
   "id": "d2d6350d",
   "metadata": {},
   "source": [
    "### 📌 Conclusión\n",
    "El modelo final basado en LightGBM, con ajuste de pesos por clase y validación adecuada, cumple con los criterios de aceptación del equipo:\n",
    "\n",
    "✅ Accuracy > 60%\n",
    "\n",
    "✅ Recall de Prediabetes > 20%\n",
    "\n",
    "✅ Overfitting < 5%\n",
    "\n",
    "Esto nos permite tener confianza en su capacidad para identificar correctamente los casos de diabetes y, crucialmente, mejorar la detección temprana de la prediabetes, que era una de las mayores debilidades del modelo inicial.\n",
    "\n"
   ]
  }
 ],
 "metadata": {
  "language_info": {
   "name": "python"
  }
 },
 "nbformat": 4,
 "nbformat_minor": 5
}
