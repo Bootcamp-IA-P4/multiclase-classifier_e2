{
 "cells": [
  {
   "cell_type": "markdown",
   "id": "bc774205",
   "metadata": {},
   "source": [
    "# Desarrollo del Modelo de Clasificación para predicción de Diabetes"
   ]
  },
  {
   "cell_type": "markdown",
   "id": "a9424ab0",
   "metadata": {},
   "source": [
    "Durante el proceso de desarrollo de nuestro modelo predictivo, evaluamos diversos algoritmos de ensamble, entre ellos:\n",
    "\n",
    "- RandomForest\n",
    "- XGBoost\n",
    "- LightGBM\n",
    "- GradientBoosting\n",
    "- LogisticRegression\n",
    "\n",
    "Uno de los principales desafíos fue el fuerte desbalanceo del dataset, con la siguiente distribución de clases:\n",
    "\n",
    "- No diabetes (0): 213,703 registros (84.2%)\n",
    "\n",
    "- Prediabetes (1): 4,631 registros (1.8%)\n",
    "\n",
    "- Diabetes (2): 35,346 registros (13.9%)\n",
    "\n",
    "Este desequilibrio afectaba significativamente el rendimiento del modelo, particularmente en la clase de Prediabetes, donde algunos modelos llegaban a presentar un recall de 0, es decir, no lograban identificar correctamente ningún caso de esta clase.\n",
    "\n"
   ]
  },
  {
   "cell_type": "markdown",
   "id": "d1cdada7",
   "metadata": {},
   "source": [
    "También probamos a eliminar las filas duplicadas que habíamos encontrado pero las métricas no mejoraban, por lo que decidimos dejarlos presentes.\n",
    "\n",
    "Además, probamos eliminar algunas variables que tenían <0.01 de correlación con la variable target, pero tampoco presentaban una gran mejoría al eliminarlas, por lo que decidimos dejarlas pensando que pueden influir mínimamente pero de forma positiva en la predicción."
   ]
  },
  {
   "cell_type": "markdown",
   "id": "aec9c6a2",
   "metadata": {},
   "source": [
    "Se puede ver todos los modelos que hemos ido probando en las ramas:\n",
    "- feature/eda-v1\n",
    "- feature/eda-2\n",
    "- feature/eda-v3\n",
    "- feature/eda-v4\n",
    "\n",
    "Pero para tener un codigo limpio, hemos decidio traer a esta versión final feature/model , el modelo que hemos elegido ya que tiene las mejores métricas."
   ]
  },
  {
   "cell_type": "markdown",
   "id": "f3364b19",
   "metadata": {},
   "source": [
    "## Modelo seleccionado: LightGBM\n",
    "\n",
    "Después de múltiples pruebas, seleccionamos LightGBM como modelo final debido a su mejor equilibrio entre precisión general y capacidad para detectar casos de prediabetes, utilizando los siguientes parámetros:\n",
    "\n",
    "```\n",
    "lgbm = LGBMClassifier(\n",
    "    objective='multiclass',\n",
    "    num_class=3,\n",
    "    class_weight=class_weights,  # pesos calculados automáticamente\n",
    "    learning_rate=0.1,\n",
    "    n_estimators=200,\n",
    "    random_state=42\n",
    ")\n",
    "```"
   ]
  },
  {
   "cell_type": "markdown",
   "id": "209cde42",
   "metadata": {},
   "source": [
    "El conjunto de datos fue dividido en entrenamiento y prueba con estratificación para preservar la distribución original de clases."
   ]
  },
  {
   "cell_type": "markdown",
   "id": "7e654ab0",
   "metadata": {},
   "source": [
    "## Nuestro modelo con LightGBM"
   ]
  },
  {
   "cell_type": "code",
   "execution_count": 4,
   "id": "7fa302d5",
   "metadata": {},
   "outputs": [
    {
     "name": "stdout",
     "output_type": "stream",
     "text": [
      "\n",
      "\u001b[1m[\u001b[0m\u001b[34;49mnotice\u001b[0m\u001b[1;39;49m]\u001b[0m\u001b[39;49m A new release of pip is available: \u001b[0m\u001b[31;49m25.0.1\u001b[0m\u001b[39;49m -> \u001b[0m\u001b[32;49m25.1.1\u001b[0m\n",
      "\u001b[1m[\u001b[0m\u001b[34;49mnotice\u001b[0m\u001b[1;39;49m]\u001b[0m\u001b[39;49m To update, run: \u001b[0m\u001b[32;49mpip install --upgrade pip\u001b[0m\n"
     ]
    }
   ],
   "source": [
    "!pip install -q lightgbm"
   ]
  },
  {
   "cell_type": "code",
   "execution_count": 3,
   "id": "c1a499c5",
   "metadata": {},
   "outputs": [
    {
     "name": "stdout",
     "output_type": "stream",
     "text": [
      "[LightGBM] [Info] Auto-choosing row-wise multi-threading, the overhead of testing was 0.006903 seconds.\n",
      "You can set `force_row_wise=true` to remove the overhead.\n",
      "And if memory is not enough, you can set `force_col_wise=true`.\n",
      "[LightGBM] [Info] Total Bins 201\n",
      "[LightGBM] [Info] Number of data points in the train set: 202944, number of used features: 21\n",
      "[LightGBM] [Info] Start training from score -1.098612\n",
      "[LightGBM] [Info] Start training from score -1.098612\n",
      "[LightGBM] [Info] Start training from score -1.098612\n",
      "🔍 Resultados para: LightGBM\n",
      "✅ Accuracy: 0.6390137180700095\n",
      "📊 Classification Report:\n",
      "              precision    recall  f1-score   support\n",
      "\n",
      "           0     0.9529    0.6467    0.7705     42741\n",
      "           1     0.0282    0.2527    0.0508       926\n",
      "           2     0.3383    0.6429    0.4433      7069\n",
      "\n",
      "    accuracy                         0.6390     50736\n",
      "   macro avg     0.4398    0.5141    0.4215     50736\n",
      "weighted avg     0.8504    0.6390    0.7118     50736\n",
      "\n"
     ]
    },
    {
     "data": {
      "image/png": "[encoded data removed]",
      "text/plain": [
       "<Figure size 500x400 with 2 Axes>"
      ]
     },
     "metadata": {},
     "output_type": "display_data"
    }
   ],
   "source": [
    "from sklearn.model_selection import train_test_split\n",
    "from sklearn.metrics import classification_report, confusion_matrix, accuracy_score\n",
    "import matplotlib.pyplot as plt\n",
    "import seaborn as sns\n",
    "from lightgbm import LGBMClassifier\n",
    "import pandas as pd\n",
    "\n",
    "df = pd.read_csv('../data/diabetes-db.csv')\n",
    "\n",
    "# cargamos los datos en sus respectivas variables\n",
    "X = df.drop(columns=['Diabetes_012'])\n",
    "y = df['Diabetes_012'].astype(int)\n",
    "\n",
    "# dividimos los datos en conjunto de entrenamiento y prueba\n",
    "X_train, X_test, y_train, y_test = train_test_split(\n",
    "    X, y, test_size=0.2, stratify=y, random_state=42\n",
    ")\n",
    "\n",
    "def evaluar_modelo(modelo, nombre):\n",
    "    y_pred = modelo.predict(X_test)\n",
    "    \n",
    "    print(f\"🔍 Resultados para: {nombre}\")\n",
    "    print(\"✅ Accuracy:\", accuracy_score(y_test, y_pred))\n",
    "    print(\"📊 Classification Report:\")\n",
    "    print(classification_report(y_test, y_pred, digits=4))\n",
    "    \n",
    "    # Matriz de confusión\n",
    "    cm = confusion_matrix(y_test, y_pred)\n",
    "    plt.figure(figsize=(5,4))\n",
    "    sns.heatmap(cm, annot=True, fmt='d', cmap='Blues', xticklabels=[0,1,2], yticklabels=[0,1,2])\n",
    "    plt.title(f\"Matriz de Confusión - {nombre}\")\n",
    "    plt.xlabel(\"Predicho\")\n",
    "    plt.ylabel(\"Real\")\n",
    "    plt.show()\n",
    "    \n",
    "# LightGBM\n",
    "from collections import Counter\n",
    "counter = Counter(y_train)\n",
    "total = sum(counter.values())\n",
    "class_weights = {cls: total/count for cls, count in counter.items()}\n",
    "\n",
    "lgbm = LGBMClassifier(\n",
    "    objective='multiclass',\n",
    "    num_class=3,\n",
    "    class_weight=class_weights,\n",
    "    learning_rate=0.1,\n",
    "    n_estimators=200,\n",
    "    random_state=42\n",
    ")\n",
    "lgbm.fit(X_train, y_train)\n",
    "evaluar_modelo(lgbm, \"LightGBM\")"
   ]
  },
  {
   "cell_type": "markdown",
   "id": "1be54216",
   "metadata": {},
   "source": [
    "## Overfitting < 5%"
   ]
  },
  {
   "cell_type": "code",
   "execution_count": 5,
   "id": "813e8f44",
   "metadata": {},
   "outputs": [
    {
     "name": "stdout",
     "output_type": "stream",
     "text": [
      "✅ Accuracy en entrenamiento: 0.6555059523809523\n",
      "✅ Accuracy en prueba: 0.6390137180700095\n",
      "📋 Classification Report - Entrenamiento:\n",
      "              precision    recall  f1-score   support\n",
      "\n",
      "           0     0.9616    0.6496    0.7754    170962\n",
      "           1     0.0732    0.6629    0.1319      3705\n",
      "           2     0.3621    0.6905    0.4751     28277\n",
      "\n",
      "    accuracy                         0.6555    202944\n",
      "   macro avg     0.4656    0.6677    0.4608    202944\n",
      "weighted avg     0.8618    0.6555    0.7218    202944\n",
      "\n",
      "📋 Classification Report - Prueba:\n",
      "              precision    recall  f1-score   support\n",
      "\n",
      "           0     0.9529    0.6467    0.7705     42741\n",
      "           1     0.0282    0.2527    0.0508       926\n",
      "           2     0.3383    0.6429    0.4433      7069\n",
      "\n",
      "    accuracy                         0.6390     50736\n",
      "   macro avg     0.4398    0.5141    0.4215     50736\n",
      "weighted avg     0.8504    0.6390    0.7118     50736\n",
      "\n",
      "🔍 Overfitting (train - test): 0.0165\n"
     ]
    }
   ],
   "source": [
    "# Predicciones en entrenamiento\n",
    "y_train_pred = lgbm.predict(X_train)\n",
    "y_test_pred = lgbm.predict(X_test)\n",
    "\n",
    "# Accuracy\n",
    "train_acc = accuracy_score(y_train, y_train_pred)\n",
    "test_acc = accuracy_score(y_test, y_test_pred)\n",
    "\n",
    "print(\"✅ Accuracy en entrenamiento:\", train_acc)\n",
    "print(\"✅ Accuracy en prueba:\", test_acc)\n",
    "\n",
    "\n",
    "print(\"📋 Classification Report - Entrenamiento:\")\n",
    "print(classification_report(y_train, y_train_pred, digits=4))\n",
    "\n",
    "print(\"📋 Classification Report - Prueba:\")\n",
    "print(classification_report(y_test, y_test_pred, digits=4))\n",
    "\n",
    "\n",
    "# Diferencia\n",
    "gap = train_acc - test_acc\n",
    "print(f\"🔍 Overfitting (train - test): {gap:.4f}\")"
   ]
  },
  {
   "cell_type": "code",
   "execution_count": 6,
   "id": "850e1a55",
   "metadata": {},
   "outputs": [
    {
     "data": {
      "text/plain": [
       "['../model/model_lgbm.pkl']"
      ]
     },
     "execution_count": 6,
     "metadata": {},
     "output_type": "execute_result"
    }
   ],
   "source": [
    "import joblib\n",
    "\n",
    "joblib.dump(lgbm, '../model/model_lgbm.pkl')"
   ]
  },
  {
   "cell_type": "markdown",
   "id": "d2d6350d",
   "metadata": {},
   "source": [
    "### 📌 Conclusión\n",
    "El modelo final basado en LightGBM, con ajuste de pesos por clase y validación adecuada, cumple con los criterios de aceptación del equipo:\n",
    "\n",
    "✅ Accuracy > 60%\n",
    "\n",
    "✅ Recall de Prediabetes > 20%\n",
    "\n",
    "✅ Overfitting < 5%\n",
    "\n",
    "Esto nos permite tener confianza en su capacidad para identificar correctamente los casos de diabetes y, crucialmente, mejorar la detección temprana de la prediabetes, que era una de las mayores debilidades del modelo inicial.\n",
    "\n"
   ]
  }
 ],
 "metadata": {
  "kernelspec": {
   "display_name": ".venv",
   "language": "python",
   "name": "python3"
  },
  "language_info": {
   "codemirror_mode": {
    "name": "ipython",
    "version": 3
   },
   "file_extension": ".py",
   "mimetype": "text/x-python",
   "name": "python",
   "nbconvert_exporter": "python",
   "pygments_lexer": "ipython3",
   "version": "3.12.10"
  }
 },
 "nbformat": 4,
 "nbformat_minor": 5
}
