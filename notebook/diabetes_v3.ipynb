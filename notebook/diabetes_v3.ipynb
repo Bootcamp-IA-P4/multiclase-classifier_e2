{
 "cells": [
  {
   "cell_type": "markdown",
   "id": "3c96895c",
   "metadata": {},
   "source": []
  },
  {
   "cell_type": "markdown",
   "id": "8cba6691",
   "metadata": {},
   "source": []
  },
  {
   "cell_type": "code",
   "execution_count": null,
   "id": "3fee9861",
   "metadata": {
    "vscode": {
     "languageId": "plaintext"
    }
   },
   "outputs": [],
   "source": []
  }
 ],
 "metadata": {
  "language_info": {
   "name": "python"
  }
 },
 "nbformat": 4,
 "nbformat_minor": 5
}
